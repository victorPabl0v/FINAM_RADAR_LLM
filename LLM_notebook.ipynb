{
 "cells": [
  {
   "cell_type": "markdown",
   "id": "631109a4",
   "metadata": {},
   "source": [
    "### offline search"
   ]
  },
  {
   "cell_type": "code",
   "execution_count": null,
   "id": "70e61834",
   "metadata": {},
   "outputs": [],
   "source": [
    "import openai\n",
    "\n",
    "openai.api_base = \"https://openrouter.ai/api/v1\"\n",
    "openai.api_key = \"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\"\n",
    "\n",
    "response = openai.ChatCompletion.create(\n",
    "  model=\"deepseek/deepseek-chat-v3.1:free\",\n",
    "  messages=[\n",
    "    {\"role\": \"system\", \"content\": \"Привет! Расскажи о себе.\"}\n",
    "  ],\n",
    "  headers={\n",
    "    \"HTTP-Referer\": \"https://example.com\",\n",
    "    \"X-Title\": \"My Test Application\",\n",
    "  },\n",
    ")\n",
    "\n",
    "reply = response.choices[0].message.content\n",
    "print(reply)"
   ]
  },
  {
   "cell_type": "markdown",
   "id": "265da782",
   "metadata": {},
   "source": [
    "### web search"
   ]
  },
  {
   "cell_type": "code",
   "execution_count": null,
   "id": "491b2c50",
   "metadata": {},
   "outputs": [],
   "source": [
    "import requests\n",
    "\n",
    "API_KEY = \"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\"\n",
    "API_URL = \"https://openrouter.ai/api/v1/chat/completions\"\n",
    "\n",
    "headers = {\n",
    "    \"Authorization\": f\"Bearer {API_KEY}\",\n",
    "    \"HTTP-Referer\": \"http://localhost\",\n",
    "    \"X-Title\": \"Web Search Example\",\n",
    "    \"Content-Type\": \"application/json\"\n",
    "}\n",
    "\n",
    "data = {\n",
    "    \"model\": \"openai/gpt-4o:online\",\n",
    "    \"plugins\": [\n",
    "        {\n",
    "            \"id\": \"web\",\n",
    "            \"engine\": \"exa\",           \n",
    "            \"max_results\": 5,\n",
    "            \"search_prompt\": \"Проведён веб-поиск новостей за 03.10.2025. Используй эти результаты в ответе.\"\n",
    "        }\n",
    "    ],\n",
    "    \"messages\": [\n",
    "        {\n",
    "            \"role\": \"user\",\n",
    "            \"content\": \"Дай сводку самых важных мировых новостей за 03.10.2025.\"\n",
    "        }\n",
    "    ]\n",
    "}\n",
    "\n",
    "response = requests.post(API_URL, headers=headers, json=data)\n",
    "\n",
    "print(response.json()[\"choices\"][0][\"message\"][\"content\"])\n"
   ]
  },
  {
   "cell_type": "code",
   "execution_count": null,
   "id": "e6fd8437",
   "metadata": {},
   "outputs": [],
   "source": []
  }
 ],
 "metadata": {
  "kernelspec": {
   "display_name": "Python 3",
   "language": "python",
   "name": "python3"
  },
  "language_info": {
   "codemirror_mode": {
    "name": "ipython",
    "version": 3
   },
   "file_extension": ".py",
   "mimetype": "text/x-python",
   "name": "python",
   "nbconvert_exporter": "python",
   "pygments_lexer": "ipython3",
   "version": "3.11.8"
  }
 },
 "nbformat": 4,
 "nbformat_minor": 5
}
