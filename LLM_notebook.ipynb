{
 "cells": [
  {
   "cell_type": "code",
   "execution_count": null,
   "id": "70e61834",
   "metadata": {},
   "outputs": [],
   "source": [
    "import openai\n",
    "\n",
    "openai.api_base = \"https://openrouter.ai/api/v1\"\n",
    "openai.api_key = \"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\"\n",
    "\n",
    "response = openai.ChatCompletion.create(\n",
    "  model=\"meituan/longcat-flash-chat:free\",\n",
    "  messages=[\n",
    "    {\"role\": \"user\", \"content\": \"Привет! Расскажи о себе.\"}\n",
    "  ],\n",
    "  headers={\n",
    "    \"HTTP-Referer\": \"https://example.com\",\n",
    "    \"X-Title\": \"My Test Application\",\n",
    "  },\n",
    ")\n",
    "\n",
    "reply = response.choices[0].message.content\n",
    "print(reply)"
   ]
  }
 ],
 "metadata": {
  "language_info": {
   "name": "python"
  }
 },
 "nbformat": 4,
 "nbformat_minor": 5
}
