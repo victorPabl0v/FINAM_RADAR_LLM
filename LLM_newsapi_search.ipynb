{
 "cells": [
  {
   "metadata": {},
   "cell_type": "code",
   "outputs": [],
   "execution_count": null,
   "source": "financial_keywords = \"market, stock, bond, exchange, index, investor, dividend, inflation, interest, rate, asset, liability, profit, loss, income, forecast, currency, volatility, futures, option, IPO, regulation, economy, GDP, crisis, debt, credit, default, recession, liquidity, capital, return, hedge, diversification, finance, insurance, tax, budget, reporting, margin, mortgage, expenses, net profit, loan, macroeconomics, public finance, cash flow, consumer credit, patent, currency control, balance, debt servicing, bankruptcy, direct investment, insurance policy\"",
   "id": "a82fac9c6cc91df2"
  },
  {
   "cell_type": "code",
   "execution_count": null,
   "id": "initial_id",
   "metadata": {
    "collapsed": true
   },
   "outputs": [],
   "source": [
    "from newsapi import NewsApiClient\n",
    "import pandas as pd\n",
    "import tqdm\n",
    "\n",
    "newsapi = NewsApiClient(api_key='a69f393f9ad646369a7dfd6a981071b8')\n",
    "\n",
    "data_top_results = pd.DataFrame()\n",
    "\n",
    "for i in tqdm.tqdm(financial_keywords):\n",
    "    top_headlines = newsapi.get_top_headlines(q=i, category='business')\n",
    "    data_remaining = pd.DataFrame(top_headlines['articles'])\n",
    "    data_top_results = pd.concat([data_top_results, data_remaining], ignore_index=True)"
   ]
  },
  {
   "metadata": {},
   "cell_type": "code",
   "outputs": [],
   "execution_count": null,
   "source": "data_top_results",
   "id": "5ab309e6312279a7"
  },
  {
   "metadata": {},
   "cell_type": "code",
   "outputs": [],
   "execution_count": null,
   "source": "data_top_results['url'].values",
   "id": "8185c07229f008b3"
  },
  {
   "metadata": {},
   "cell_type": "code",
   "outputs": [],
   "execution_count": null,
   "source": "trusted_links = [\"bbc-news\", \"bloomberg\", \"reuters\", \"the wall street journal\", \"financial times\", \"cnbc\", \"forbes\", \"the economist\", \"new york times\", \"nasdaq\", \"marketwatch\", \"investing\", \"bbc news business\", \"cnn business\", \"the guardian business\", \"washington post business\", \"al jazeera economy\", \"france 24 business\", \"times of india business\", \"sydney morning herald business\", \"handelsblatt\", \"le monde économie\", \"les echos\", \"el pais economía\", \"cointelegraph\", \"coindesk\", \"amb crypto\", \"bitcoinist\", \"beincrypto\", \"coincode\", \"the daily hodl\", \"decrypt\", \"the block\", \"coingape\"]",
   "id": "2933f495634dd211"
  },
  {
   "metadata": {},
   "cell_type": "code",
   "outputs": [],
   "execution_count": null,
   "source": [
    "def filter_trusted_sources(df, trusted_links_str):\n",
    "    def url_contains_trusted(url):\n",
    "        if not isinstance(url, str):\n",
    "            return False\n",
    "        url_lower = url.lower()\n",
    "        return any(site.lower() in url_lower for site in trusted_links)\n",
    "\n",
    "    filtered_df = df[df['url'].apply(url_contains_trusted)].copy()\n",
    "    return filtered_df"
   ],
   "id": "824ed1868f8dd0ff"
  },
  {
   "metadata": {},
   "cell_type": "code",
   "outputs": [],
   "execution_count": null,
   "source": "filtered_data = filter_trusted_sources(data_top_results, trusted_links)",
   "id": "8f7866c550ac63c8"
  },
  {
   "metadata": {},
   "cell_type": "code",
   "outputs": [],
   "execution_count": null,
   "source": "filtered_data",
   "id": "4d3d071aaff00295"
  }
 ],
 "metadata": {
  "kernelspec": {
   "display_name": "Python 3",
   "language": "python",
   "name": "python3"
  },
  "language_info": {
   "codemirror_mode": {
    "name": "ipython",
    "version": 2
   },
   "file_extension": ".py",
   "mimetype": "text/x-python",
   "name": "python",
   "nbconvert_exporter": "python",
   "pygments_lexer": "ipython2",
   "version": "2.7.6"
  }
 },
 "nbformat": 4,
 "nbformat_minor": 5
}
